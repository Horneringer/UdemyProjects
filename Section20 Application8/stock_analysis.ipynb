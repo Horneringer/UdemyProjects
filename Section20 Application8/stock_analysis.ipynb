{
 "cells": [
  {
   "cell_type": "code",
   "execution_count": 1,
   "metadata": {},
   "outputs": [],
   "source": [
    "#модуль для считывания данных с онлайн ресурсов/различных компаний\n",
    "from pandas_datareader import data\n",
    "import datetime\n",
    "from bokeh.plotting import figure, show, output_file\n",
    "\n",
    "# модуль компонентов из интерфейса встраивания Bokeh\n",
    "from bokeh.embed import components\n",
    "\n",
    "#модуль сетевой доставки контента\n",
    "from bokeh.resources import CDN\n",
    "\n",
    "start_data = datetime.datetime(2018,9,1)\n",
    "end_data = datetime.datetime(2018,9,24)\n",
    "\n",
    "#в параметры передаём имя компании(в данном случае запасное имя Google), источник данных, \n",
    "#промежуток времени, из которого получаем данные; тип dataframe\n",
    "df = data.DataReader(name='GOOG', data_source='yahoo', start=start_data, end=end_data)\n",
    "\n",
    "#создаём новый столбец в датафрейме, обозначающий статус цены(увеличивается или уменьшается)\n",
    "#значение в каждой ячейке будет устанавливаться в зависимости от цен на открытие или закрытие в этот день\n",
    "\n",
    "def inc_dec(cl, op):\n",
    "    if cl > op:\n",
    "        value = 'Increase'\n",
    "    elif cl < op:\n",
    "        value = 'Decrease'\n",
    "    else:\n",
    "        value = 'Equal'\n",
    "    return value\n",
    "\n",
    "#устанавливаем статус с помощью функции, перебирая в цикле все дни со значениями close open попарно\n",
    "df['Status'] = [inc_dec(cl,op) for cl, op in zip(df.Close, df.Open)]\n",
    "\n",
    "#создаём столбец с координатами серидины прямоугольника по Y\n",
    "df['Middle'] = (df.Close + df.Open)/2\n",
    "\n",
    "#столбец для высоты\n",
    "df['Height'] = abs(df.Close - df.Open)\n",
    "\n",
    "p = figure(x_axis_type='datetime', width=1500, height=800)\n",
    "\n",
    "# график масштабируется вместе с окном(вместо устаревшего responsive = True)\n",
    "p.sizing_mode = \"scale_both\"\n",
    "\n",
    "#заголовок диаграммы\n",
    "p.title.text = ('Candlestick Chart')\n",
    "\n",
    "#устанавливаем прозрачность сетки(от 0 до 1)\n",
    "p.grid.grid_line_alpha = 0.3\n",
    "\n",
    "#переводим 12 часов в миллисекунды\n",
    "hours_12 = 12 * 60 * 60 * 1000\n",
    "\n",
    "#используем сегменты для отображения максимальной и минимальной цены за день; \n",
    "#4 параметра: x,y координаты верхней точки и x,y координаты нижней точки\n",
    "#отрисовываем сегменты до прямоугольников, так как в Bokeh новые слои накладываются поверх старых\n",
    "\n",
    "p.segment(df.index, df.High, df.index, df.Low, color = 'black')\n",
    "\n",
    "\n",
    "#определем координаты центров прямоугольника; координаты по оси X - даты, когда в столбце Status значение Increase \n",
    "#(цена закрытия торгов выше цены открытия)\n",
    "#строки индексируются по дате, поэтому тспользуем index\n",
    "#координаты по оси Y - сумма цен открытия и закрытия попалам, вычисляется в столбце Middle; \n",
    "#ширина прямоугольников будет 12 часов(откладывается + и - 6 часов от центра)\n",
    "#высота - разница между ценой закрытия и открытия, столбец Height\n",
    "#указываем цвет прямоугольников и цвет границ \n",
    "\n",
    "p.rect(df.index[df.Status == 'Increase'],df.Middle[df.Status == 'Increase'], \n",
    "       hours_12, df.Height[df.Status == 'Increase'], fill_color = 'green', line_color = 'black')\n",
    "\n",
    "#координаты по оси X - даты, когда в столбце Status значение Decrease\n",
    "#(цена закрытия торгов ниже цены открытия), цвет прямоугольников красный\n",
    "\n",
    "p.rect(df.index[df.Status == 'Decrease'],df.Middle[df.Status == 'Decrease'], \n",
    "       hours_12, df.Height[df.Status == 'Decrease'], fill_color = 'red', line_color = 'black')\n",
    "\n",
    "#для встраивания графика Bokeh в Flask необходимо 4 вещи: \n",
    "#исходный код диаграммы JavaScript, кода диаграммы HTML, динамическая ссылка на файл js и динамическая ссылка на файл css\n",
    "\n",
    "#отображает картеж из 2х элементов: исходного кода JavaScript, кода HTML с div;\n",
    "#передаём их в функцию компонентов\n",
    "#оба элемента типа str; передаём их в tamplates (Section10)\n",
    "script, division1 = components(p)\n",
    "\n",
    "#список ссылок на js файлы\n",
    "cdn_js = CDN.js_files\n",
    "\n",
    "#список ссылок на css файлы\n",
    "cdn_css = CDN.css_files\n",
    "\n",
    "\n",
    "# отображение графика в локальном html файле, сохраняется на компе\n",
    "output_file('CS.html')\n",
    "\n",
    "show(p)\n"
   ]
  },
  {
   "cell_type": "code",
   "execution_count": 96,
   "metadata": {},
   "outputs": [
    {
     "data": {
      "text/plain": [
       "'https://cdn.pydata.org/bokeh/release/bokeh-0.13.0.min.js'"
      ]
     },
     "execution_count": 96,
     "metadata": {},
     "output_type": "execute_result"
    }
   ],
   "source": [
    "#получаем первый элемент списка - динамическую ссылку на js файл(при обновлении версии Bokeh, ссылка будет тоже обновляться) \n",
    "cdn_js[0]"
   ]
  },
  {
   "cell_type": "code",
   "execution_count": 97,
   "metadata": {},
   "outputs": [
    {
     "data": {
      "text/plain": [
       "'https://cdn.pydata.org/bokeh/release/bokeh-0.13.0.min.css'"
      ]
     },
     "execution_count": 97,
     "metadata": {},
     "output_type": "execute_result"
    }
   ],
   "source": [
    "#получаем динамическую ссылку на css файл\n",
    "cdn_css[0]"
   ]
  }
 ],
 "metadata": {
  "kernelspec": {
   "display_name": "Python 3",
   "language": "python",
   "name": "python3"
  },
  "language_info": {
   "codemirror_mode": {
    "name": "ipython",
    "version": 3
   },
   "file_extension": ".py",
   "mimetype": "text/x-python",
   "name": "python",
   "nbconvert_exporter": "python",
   "pygments_lexer": "ipython3",
   "version": "3.6.3"
  }
 },
 "nbformat": 4,
 "nbformat_minor": 2
}
